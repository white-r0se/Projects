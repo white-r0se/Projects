{
 "cells": [
  {
   "cell_type": "markdown",
   "id": "fa07cfea",
   "metadata": {},
   "source": [
    "Автор: Золотаревский Артём\n",
    "\n",
    "Группа: ПМ21-2\n",
    "\n",
    "Дата создания: 20.04.22"
   ]
  },
  {
   "cell_type": "code",
   "execution_count": 2,
   "id": "5f26cb6f",
   "metadata": {},
   "outputs": [],
   "source": [
    "def turing_machine(word, P, max_iterate_count=25):\n",
    "    n = 3 \n",
    "    new_P = dict()\n",
    "    for p in P:\n",
    "        chunks = [p[i : i + n] for i in range(0, len(p), n)] \n",
    "        q_key, v_key = list(map(int, list(chunks[0])[1:]))\n",
    "        q_set, v_set = list(map(int, list(chunks[1])[1:]))\n",
    "        if chunks[2] == 'r':\n",
    "            offset = 1\n",
    "        elif chunks[2] == 'l':\n",
    "            offset = -1\n",
    "        else:\n",
    "            offset = 0\n",
    "\n",
    "        if q_key in new_P:\n",
    "            new_P[q_key].update({v_key: (q_set, v_set, offset)})\n",
    "        else:\n",
    "            new_P[q_key] = {v_key: (q_set, v_set, offset)}\n",
    "    P = new_P\n",
    "    \n",
    "    state = 1\n",
    "    word = list(map(int, list(word)))\n",
    "    pos = 0\n",
    "    i = 0\n",
    "    while state != 0:\n",
    "        print('Состояние {}, символ {}, позиция {}'.format(state, word[pos], pos))\n",
    "        if state not in P:\n",
    "            print('Состояние не определено, конец программы')\n",
    "            break\n",
    "        if word[pos] not in P[state]:\n",
    "            print('Символ для состояния не определен, конец программы')\n",
    "            break\n",
    "        state, word[pos], offset = P[state][word[pos]]\n",
    "        pos += offset\n",
    "        i += 1\n",
    "        if pos >= len(word):\n",
    "            word.append(0)\n",
    "        print(str(i) + '.', ''.join(list(map(str, word))))\n",
    "        if i > max_iterate_count:\n",
    "            print('Превышено количество итераций программы!')\n",
    "            break"
   ]
  },
  {
   "cell_type": "code",
   "execution_count": 3,
   "id": "edf42975",
   "metadata": {},
   "outputs": [
    {
     "name": "stdout",
     "output_type": "stream",
     "text": [
      "Состояние 1, символ 1, позиция 0\n",
      "1. 01101\n",
      "Состояние 2, символ 1, позиция 1\n",
      "2. 00101\n",
      "Состояние 1, символ 1, позиция 2\n",
      "3. 00001\n",
      "Состояние 2, символ 0, позиция 3\n",
      "4. 00011\n"
     ]
    }
   ],
   "source": [
    "P = [\n",
    "    'q10q10r',\n",
    "    'q11q20r',\n",
    "    'q21q10r',\n",
    "    'q20q01s'\n",
    "]\n",
    "word = '11101'\n",
    "turing_machine(word, P)"
   ]
  },
  {
   "cell_type": "code",
   "execution_count": null,
   "id": "73761d9e",
   "metadata": {},
   "outputs": [],
   "source": []
  }
 ],
 "metadata": {
  "kernelspec": {
   "display_name": "Python 3 (ipykernel)",
   "language": "python",
   "name": "python3"
  },
  "language_info": {
   "codemirror_mode": {
    "name": "ipython",
    "version": 3
   },
   "file_extension": ".py",
   "mimetype": "text/x-python",
   "name": "python",
   "nbconvert_exporter": "python",
   "pygments_lexer": "ipython3",
   "version": "3.9.7"
  }
 },
 "nbformat": 4,
 "nbformat_minor": 5
}
