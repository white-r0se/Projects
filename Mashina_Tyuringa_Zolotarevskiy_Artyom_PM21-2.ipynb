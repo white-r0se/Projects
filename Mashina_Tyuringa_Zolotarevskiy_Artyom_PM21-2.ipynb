{
 "cells": [
  {
   "cell_type": "markdown",
   "id": "fa07cfea",
   "metadata": {},
   "source": [
    "Автор: Золотаревский Артём\n",
    "\n",
    "Группа: ПМ21-2\n",
    "\n",
    "Дата создания: 20.04.22"
   ]
  },
  {
   "cell_type": "code",
   "execution_count": 1,
   "id": "5f26cb6f",
   "metadata": {},
   "outputs": [],
   "source": [
    "def turing_machine(word, P, max_iterate_count=25):\n",
    "    n = 3 \n",
    "    new_P = dict()\n",
    "    for p in P:\n",
    "        chunks = [p[i : i + n] for i in range(0, len(p), n)] \n",
    "        q_key, v_key = list(map(int, list(chunks[0])[1:]))\n",
    "        q_set, v_set = list(map(int, list(chunks[1])[1:]))\n",
    "        if chunks[2] == 'r':\n",
    "            offset = 1\n",
    "        elif chunks[2] == 'l':\n",
    "            offset = -1\n",
    "        else:\n",
    "            offset = 0\n",
    "\n",
    "        if q_key in new_P:\n",
    "            new_P[q_key].update({v_key: (q_set, v_set, offset)})\n",
    "        else:\n",
    "            new_P[q_key] = {v_key: (q_set, v_set, offset)}\n",
    "    P = new_P\n",
    "    \n",
    "    state = 1\n",
    "    word = list(map(int, list(word)))\n",
    "    pos = 0\n",
    "    i = 0\n",
    "    while state != 0:\n",
    "        print('Состояние {}, символ {}, позиция {}'.format(state, word[pos], pos))\n",
    "        if state not in P:\n",
    "            print('Состояние не определено, конец программы')\n",
    "            break\n",
    "        if word[pos] not in P[state]:\n",
    "            print('Символ для состояния не определен, конец программы')\n",
    "            break\n",
    "        state, word[pos], offset = P[state][word[pos]]\n",
    "        pos += offset\n",
    "        i += 1\n",
    "        if pos >= len(word):\n",
    "            word.append(0)\n",
    "        print(str(i) + '.', ''.join(list(map(str, word))))\n",
    "        if i > max_iterate_count:\n",
    "            print('Превышено количество итераций программы!')\n",
    "            break"
   ]
  },
  {
   "cell_type": "code",
   "execution_count": 2,
   "id": "edf42975",
   "metadata": {},
   "outputs": [
    {
     "name": "stdout",
     "output_type": "stream",
     "text": [
      "Состояние 1, символ 1, позиция 0\n",
      "1. 110101\n",
      "Состояние 2, символ 1, позиция -1\n",
      "2. 110100\n",
      "Состояние 3, символ 1, позиция 0\n",
      "3. 110100\n",
      "Состояние 1, символ 1, позиция 1\n",
      "4. 110100\n",
      "Состояние 2, символ 1, позиция 0\n",
      "5. 010100\n",
      "Состояние 3, символ 1, позиция 1\n",
      "6. 010100\n",
      "Состояние 1, символ 0, позиция 2\n",
      "7. 011100\n",
      "Состояние 2, символ 1, позиция 3\n",
      "8. 011000\n",
      "Состояние 3, символ 0, позиция 4\n",
      "9. 011000\n"
     ]
    }
   ],
   "source": [
    "P = [\n",
    "    'q10q21r',\n",
    "    'q11q21l',\n",
    "    'q20q31r',\n",
    "    'q21q30r',\n",
    "    'q30q00s',\n",
    "    'q31q11r'\n",
    "]\n",
    "word = '110101'\n",
    "turing_machine(word, P)"
   ]
  },
  {
   "cell_type": "code",
   "execution_count": null,
   "id": "73761d9e",
   "metadata": {},
   "outputs": [],
   "source": []
  }
 ],
 "metadata": {
  "interpreter": {
   "hash": "ef1a5d0b392b78fa6b938496ed158b31a5708e64beeadf2ab287f2b43192d531"
  },
  "kernelspec": {
   "display_name": "Python 3.9.6 64-bit",
   "name": "python3"
  },
  "language_info": {
   "codemirror_mode": {
    "name": "ipython",
    "version": 3
   },
   "file_extension": ".py",
   "mimetype": "text/x-python",
   "name": "python",
   "nbconvert_exporter": "python",
   "pygments_lexer": "ipython3",
   "version": "3.9.6"
  }
 },
 "nbformat": 4,
 "nbformat_minor": 5
}
