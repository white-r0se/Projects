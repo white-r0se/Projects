{
 "cells": [
  {
   "cell_type": "code",
   "execution_count": 21,
   "metadata": {},
   "outputs": [],
   "source": [
    "marks = ['отлично', 'хорошо', 'удовл.', 'неудовл.', 'н/я']\n",
    "\n",
    "class Vedomost(object):\n",
    "    def __init__(self, disciplines_list, discipline, group):\n",
    "        if not(discipline in disciplines_list):\n",
    "            print('ERROR') \n",
    "            return None\n",
    "        self.disciplines_list = disciplines_list\n",
    "        self.discipline = discipline\n",
    "        self.group = group\n",
    "        self.dict = {}\n",
    "\n",
    "    def __str__(self):\n",
    "        print(f'{self.discipline} {self.group}')\n",
    "        for second_name, mark in self.dict.items():\n",
    "            print(f'{second_name}: {mark}')\n",
    "        return ''\n",
    "\n",
    "    def put(self, second_name, mark):\n",
    "        if not(mark in marks):\n",
    "            print('ERROR')\n",
    "            return None\n",
    "        self.dict[second_name] = mark\n",
    "\n",
    "    def get(self, second_name):\n",
    "        return self.dict[second_name]\n",
    "\n",
    "    def change(self, second_name, mark):\n",
    "        if not(mark in marks):\n",
    "            print('ERROR')\n",
    "            return None\n",
    "        self.dict[second_name] = mark\n",
    "\n",
    "    def del_f(self, second_name):\n",
    "        del self.dict[second_name]\n",
    "\n",
    "    def result(self):\n",
    "        counts = dict(zip(marks, [0]*5))\n",
    "        for second_name, mark in self.dict.items():\n",
    "            counts[mark] += 1\n",
    "        return tuple(counts.values())\n",
    "\n",
    "    def count(self):\n",
    "        return len(self.dict)\n",
    "\n",
    "    def names(self):\n",
    "        return list(self.dict.keys())\n",
    "    \n",
    "    "
   ]
  },
  {
   "cell_type": "code",
   "execution_count": 22,
   "metadata": {},
   "outputs": [
    {
     "name": "stdout",
     "output_type": "stream",
     "text": [
      "Math ПМ21-3\n",
      "Ross: отлично\n",
      "Green: хорошо\n",
      "\n",
      "2\n",
      "(1, 1, 0, 0, 0)\n",
      "['Ross', 'Green']\n"
     ]
    }
   ],
   "source": [
    "V = Vedomost(['Math', 'History'], 'Math', 'ПМ21-3')\n",
    "V.put('Ross', 'отлично')\n",
    "V.put('Green', 'хорошо')\n",
    "print(V)\n",
    "print(V.count())\n",
    "print(V.result())\n",
    "print(V.names())"
   ]
  },
  {
   "cell_type": "code",
   "execution_count": null,
   "metadata": {},
   "outputs": [],
   "source": []
  }
 ],
 "metadata": {
  "interpreter": {
   "hash": "ef1a5d0b392b78fa6b938496ed158b31a5708e64beeadf2ab287f2b43192d531"
  },
  "kernelspec": {
   "display_name": "Python 3.9.6 64-bit",
   "name": "python3"
  },
  "language_info": {
   "codemirror_mode": {
    "name": "ipython",
    "version": 3
   },
   "file_extension": ".py",
   "mimetype": "text/x-python",
   "name": "python",
   "nbconvert_exporter": "python",
   "pygments_lexer": "ipython3",
   "version": "3.9.6"
  },
  "orig_nbformat": 4
 },
 "nbformat": 4,
 "nbformat_minor": 2
}
