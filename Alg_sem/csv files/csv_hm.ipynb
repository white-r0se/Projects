{
 "cells": [
  {
   "cell_type": "code",
   "execution_count": 1,
   "metadata": {},
   "outputs": [],
   "source": [
    "import csv"
   ]
  },
  {
   "cell_type": "code",
   "execution_count": 2,
   "metadata": {},
   "outputs": [
    {
     "name": "stdout",
     "output_type": "stream",
     "text": [
      "[['id', 'first_name', 'last_name', 'group_id'], ['101', 'Ross', 'Geller', '1'], ['102', 'Monica', 'Geller', '1'], ['103', 'Chandler', 'Bing', '2'], ['104', 'Rachel', 'Green', '3']]\n"
     ]
    }
   ],
   "source": [
    "students_csv = open('students.csv', 'r', newline='')\n",
    "students_list = list(csv.reader(students_csv, delimiter=';'))\n",
    "print(students_list)"
   ]
  },
  {
   "cell_type": "code",
   "execution_count": 3,
   "metadata": {},
   "outputs": [],
   "source": [
    "#1\n",
    "def find_by_name(*names):\n",
    "    output_list = []\n",
    "    for student in students_list:\n",
    "        if student[1] in names:\n",
    "            output_list.append(student)\n",
    "    return output_list"
   ]
  },
  {
   "cell_type": "code",
   "execution_count": 4,
   "metadata": {},
   "outputs": [
    {
     "name": "stdout",
     "output_type": "stream",
     "text": [
      "[['101', 'Ross', 'Geller', '1'], ['103', 'Chandler', 'Bing', '2']]\n"
     ]
    }
   ],
   "source": [
    "print(find_by_name('Ross', 'Chandler'))"
   ]
  },
  {
   "cell_type": "code",
   "execution_count": 5,
   "metadata": {},
   "outputs": [],
   "source": [
    "#2\n",
    "import random\n",
    "import numpy as np\n",
    "\n",
    "def func2(filename):\n",
    "    while True:\n",
    "        print('1 - generate n real numbers...')\n",
    "        print('2 - read all numbers...')\n",
    "        print('3 - operations with numbers...')\n",
    "        input_word = input()\n",
    "        if input_word == '1':\n",
    "            file_csv = open(filename, 'w+', newline='')\n",
    "            file_list = list(csv.reader(file_csv, delimiter=';'))\n",
    "            a, b = map(int, input('Введите диапазон:').split())\n",
    "            n = int(input('Введите n:'))\n",
    "            writer = csv.writer(file_csv)\n",
    "            for i in range(n):\n",
    "                writer.writerow([str(random.randint(a, b))])\n",
    "            break\n",
    "        elif input_word == '2':\n",
    "            file_csv = open(filename, 'r+', newline='')\n",
    "            file_list = list(csv.reader(file_csv, delimiter=';'))\n",
    "            print(file_list)\n",
    "            break\n",
    "        elif input_word == '3':\n",
    "            file_csv = open(filename, 'r+', newline='')\n",
    "            file_list = list(csv.reader(file_csv, delimiter=';'))\n",
    "            nums = []\n",
    "            for line in file_list:\n",
    "                for num in line:\n",
    "                    nums.append(int(num))\n",
    "            print(nums)\n",
    "            print('Выберете одну из операций: sum - сумма, prod - произведение, max - наиб, \\n min - наименьшее, sum_positive - сумма полож, sum_negative - сумма отриц')\n",
    "            operation = input()\n",
    "            if operation == 'sum':\n",
    "                print(sum(nums))\n",
    "            elif operation == 'prod':\n",
    "                print(np.prod(nums))\n",
    "            elif operation == 'max':\n",
    "                print(max(nums))\n",
    "            elif operation == 'min':\n",
    "                print(min(nums))\n",
    "            elif operation == 'sum_positive':\n",
    "                print(sum([num for num in nums if num > 0]))\n",
    "            elif operation == 'sum_negative':\n",
    "                print(sum([num for num in nums if num < 0]))\n",
    "            break\n",
    "\n",
    "    \n",
    "     "
   ]
  },
  {
   "cell_type": "code",
   "execution_count": 6,
   "metadata": {},
   "outputs": [
    {
     "name": "stdout",
     "output_type": "stream",
     "text": [
      "1 - generate n real numbers...\n",
      "2 - read all numbers...\n",
      "3 - operations with numbers...\n",
      "1 - generate n real numbers...\n",
      "2 - read all numbers...\n",
      "3 - operations with numbers...\n",
      "1 - generate n real numbers...\n",
      "2 - read all numbers...\n",
      "3 - operations with numbers...\n",
      "1 - generate n real numbers...\n",
      "2 - read all numbers...\n",
      "3 - operations with numbers...\n",
      "1 - generate n real numbers...\n",
      "2 - read all numbers...\n",
      "3 - operations with numbers...\n",
      "1 - generate n real numbers...\n",
      "2 - read all numbers...\n",
      "3 - operations with numbers...\n",
      "1 - generate n real numbers...\n",
      "2 - read all numbers...\n",
      "3 - operations with numbers...\n",
      "1 - generate n real numbers...\n",
      "2 - read all numbers...\n",
      "3 - operations with numbers...\n",
      "1 - generate n real numbers...\n",
      "2 - read all numbers...\n",
      "3 - operations with numbers...\n",
      "1 - generate n real numbers...\n",
      "2 - read all numbers...\n",
      "3 - operations with numbers...\n",
      "1 - generate n real numbers...\n",
      "2 - read all numbers...\n",
      "3 - operations with numbers...\n",
      "1 - generate n real numbers...\n",
      "2 - read all numbers...\n",
      "3 - operations with numbers...\n",
      "1 - generate n real numbers...\n",
      "2 - read all numbers...\n",
      "3 - operations with numbers...\n",
      "1 - generate n real numbers...\n",
      "2 - read all numbers...\n",
      "3 - operations with numbers...\n",
      "1 - generate n real numbers...\n",
      "2 - read all numbers...\n",
      "3 - operations with numbers...\n",
      "1 - generate n real numbers...\n",
      "2 - read all numbers...\n",
      "3 - operations with numbers...\n",
      "1 - generate n real numbers...\n",
      "2 - read all numbers...\n",
      "3 - operations with numbers...\n",
      "1 - generate n real numbers...\n",
      "2 - read all numbers...\n",
      "3 - operations with numbers...\n"
     ]
    },
    {
     "ename": "ValueError",
     "evalue": "invalid literal for int() with base 10: \"['Monday', 'Wednesday', 'Monday', 'Monday', 'Saturday', 'Thuesday']\"",
     "output_type": "error",
     "traceback": [
      "\u001b[1;31m---------------------------------------------------------------------------\u001b[0m",
      "\u001b[1;31mValueError\u001b[0m                                Traceback (most recent call last)",
      "\u001b[1;32m~\\AppData\\Local\\Temp/ipykernel_17028/1093461091.py\u001b[0m in \u001b[0;36m<module>\u001b[1;34m\u001b[0m\n\u001b[1;32m----> 1\u001b[1;33m \u001b[0mfunc2\u001b[0m\u001b[1;33m(\u001b[0m\u001b[1;34m'test.csv'\u001b[0m\u001b[1;33m)\u001b[0m\u001b[1;33m\u001b[0m\u001b[1;33m\u001b[0m\u001b[0m\n\u001b[0m",
      "\u001b[1;32m~\\AppData\\Local\\Temp/ipykernel_17028/517258170.py\u001b[0m in \u001b[0;36mfunc2\u001b[1;34m(filename)\u001b[0m\n\u001b[0;32m     29\u001b[0m             \u001b[1;32mfor\u001b[0m \u001b[0mline\u001b[0m \u001b[1;32min\u001b[0m \u001b[0mfile_list\u001b[0m\u001b[1;33m:\u001b[0m\u001b[1;33m\u001b[0m\u001b[1;33m\u001b[0m\u001b[0m\n\u001b[0;32m     30\u001b[0m                 \u001b[1;32mfor\u001b[0m \u001b[0mnum\u001b[0m \u001b[1;32min\u001b[0m \u001b[0mline\u001b[0m\u001b[1;33m:\u001b[0m\u001b[1;33m\u001b[0m\u001b[1;33m\u001b[0m\u001b[0m\n\u001b[1;32m---> 31\u001b[1;33m                     \u001b[0mnums\u001b[0m\u001b[1;33m.\u001b[0m\u001b[0mappend\u001b[0m\u001b[1;33m(\u001b[0m\u001b[0mint\u001b[0m\u001b[1;33m(\u001b[0m\u001b[0mnum\u001b[0m\u001b[1;33m)\u001b[0m\u001b[1;33m)\u001b[0m\u001b[1;33m\u001b[0m\u001b[1;33m\u001b[0m\u001b[0m\n\u001b[0m\u001b[0;32m     32\u001b[0m             \u001b[0mprint\u001b[0m\u001b[1;33m(\u001b[0m\u001b[0mnums\u001b[0m\u001b[1;33m)\u001b[0m\u001b[1;33m\u001b[0m\u001b[1;33m\u001b[0m\u001b[0m\n\u001b[0;32m     33\u001b[0m             \u001b[0mprint\u001b[0m\u001b[1;33m(\u001b[0m\u001b[1;34m'Выберете одну из операций: sum - сумма, prod - произведение, max - наиб, \\n min - наименьшее, sum_positive - сумма полож, sum_negative - сумма отриц'\u001b[0m\u001b[1;33m)\u001b[0m\u001b[1;33m\u001b[0m\u001b[1;33m\u001b[0m\u001b[0m\n",
      "\u001b[1;31mValueError\u001b[0m: invalid literal for int() with base 10: \"['Monday', 'Wednesday', 'Monday', 'Monday', 'Saturday', 'Thuesday']\""
     ]
    }
   ],
   "source": [
    "func2('test.csv')"
   ]
  },
  {
   "cell_type": "code",
   "execution_count": 4,
   "metadata": {},
   "outputs": [],
   "source": [
    "#3\n",
    "days_of_week = ['Monday', 'Thuesday', 'Wednesday', 'Thursday', 'Friday', 'Saturday', 'Sunday']\n",
    "n, m = map(int, input('Введите n и м:').split())\n",
    "matrix = [['' for i in range(m)] for j in range(n)]\n",
    "for i in range(len(matrix)):\n",
    "    for j in range(len(matrix[0])):\n",
    "        matrix[i][j] = random.choice(days_of_week)\n",
    "with open('test.csv', 'w+', newline='') as file1:\n",
    "    writer = csv.writer(file1)\n",
    "    for i in range(n):\n",
    "        writer.writerow([str(matrix[i])])\n"
   ]
  },
  {
   "cell_type": "code",
   "execution_count": 29,
   "metadata": {},
   "outputs": [],
   "source": [
    "#4\n",
    "with open('goods.csv', 'r+', newline='') as file4:\n",
    "    file_list = list(csv.reader(file4, delimiter=';'))\n",
    "    prices = []\n",
    "    for line in file_list[1:]:\n",
    "        prices.append(int(line[1]))\n",
    "    average_price = sum(prices)/len(prices)\n",
    "    changes = []\n",
    "    for i in range(len(prices)):\n",
    "        if prices[i] > average_price:\n",
    "            prices[i] -= 1\n",
    "            changes.append(1)\n",
    "        else:\n",
    "            changes.append(None)\n",
    "    \n",
    "with open('goods_output.csv', 'w+', newline='') as file4_out:\n",
    "    writer = csv.writer(file4_out)\n",
    "    writer.writerow(['goods', 'price', 'change'])\n",
    "    for i in range(1, n):\n",
    "        writer.writerow([file_list[i][0], prices[i-1], str(changes[i-1])])\n",
    "\n",
    "\n",
    "\n",
    "\n",
    "\n",
    "    "
   ]
  },
  {
   "cell_type": "code",
   "execution_count": 46,
   "metadata": {},
   "outputs": [],
   "source": [
    "#5\n",
    "def func5(filename1, filename2, list_tuples):\n",
    "    list_man, list_woman = [], []\n",
    "    for tup in list_tuples:\n",
    "        if tup[2] == 'm':\n",
    "            list_man.append(tup)\n",
    "        else:\n",
    "            list_woman.append(tup)\n",
    "    with open(filename1, 'w+', newline='') as manfile:\n",
    "        writer = csv.writer(manfile)\n",
    "        writer.writerows(list_man)\n",
    "    with open(filename2, 'w+', newline='') as womanfile:\n",
    "        writer = csv.writer(womanfile)\n",
    "        writer.writerows(list_woman)"
   ]
  },
  {
   "cell_type": "code",
   "execution_count": 47,
   "metadata": {},
   "outputs": [],
   "source": [
    "list_tuples = [('Sergey', 22, 'm'), ('Elena', 18, 'w'), ('Alexei', 19, 'm')]\n",
    "func5('man.csv', 'woman.csv', list_tuples)"
   ]
  },
  {
   "cell_type": "code",
   "execution_count": null,
   "metadata": {},
   "outputs": [],
   "source": []
  }
 ],
 "metadata": {
  "interpreter": {
   "hash": "ef1a5d0b392b78fa6b938496ed158b31a5708e64beeadf2ab287f2b43192d531"
  },
  "kernelspec": {
   "display_name": "Python 3.9.6 64-bit",
   "name": "python3"
  },
  "language_info": {
   "codemirror_mode": {
    "name": "ipython",
    "version": 3
   },
   "file_extension": ".py",
   "mimetype": "text/x-python",
   "name": "python",
   "nbconvert_exporter": "python",
   "pygments_lexer": "ipython3",
   "version": "3.9.6"
  },
  "orig_nbformat": 4
 },
 "nbformat": 4,
 "nbformat_minor": 2
}
