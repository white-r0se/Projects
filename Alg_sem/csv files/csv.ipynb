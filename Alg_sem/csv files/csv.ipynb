{
 "cells": [
  {
   "cell_type": "code",
   "execution_count": 1,
   "metadata": {},
   "outputs": [],
   "source": [
    "import csv"
   ]
  },
  {
   "cell_type": "code",
   "execution_count": 2,
   "metadata": {},
   "outputs": [],
   "source": [
    "groups_csv = open('groups.csv', 'r', newline='')\n",
    "result_csv = open('result.csv', 'r', newline='')\n",
    "students_csv = open('students.csv', 'r', newline='')\n",
    "subjects_csv = open('subjects.csv', 'r', newline='')\n",
    "teachers_csv = open('teachers.csv', 'r', newline='')\n",
    "\n",
    "groups_list = list(csv.reader(groups_csv, delimiter=';'))\n",
    "result_list = list(csv.reader(result_csv, delimiter=';'))\n",
    "students_list = list(csv.reader(students_csv, delimiter=';'))\n",
    "subjects_list = list(csv.reader(subjects_csv, delimiter=';'))\n",
    "teachers_list = list(csv.reader(teachers_csv, delimiter=';'))\n"
   ]
  },
  {
   "cell_type": "code",
   "execution_count": 3,
   "metadata": {},
   "outputs": [
    {
     "name": "stdout",
     "output_type": "stream",
     "text": [
      "[['id', 'subject_name'], ['1', 'History'], ['2', 'Math']]\n",
      "[['id', 'subject_id', 'student_id', 'att1', 'att2', 'exam', 'total', 'teacher_id'], ['1', '1', '101', '19', '20', '60', '5', '1'], ['2', '1', '102', '18', '19', '50', '4', '1'], ['3', '2', '103', '17', '15', '60', '5', '2'], ['4', '1', '104', '13', '15', '40', '3', '2'], ['5', '2', '101', '17', '19', '40', '4', '2']]\n",
      "[['id', 'first_name', 'last_name', 'group_id'], ['101', 'Ross', 'Geller', '1'], ['102', 'Monica', 'Geller', '1'], ['103', 'Chandler', 'Bing', '2'], ['104', 'Rachel', 'Green', '3']]\n",
      "[['id', 'first_name', 'last_name', 'middle_name'], ['1', 'Bob', 'Ross', 'Kelly'], ['2', 'Steven', 'Jobs', 'Paul']]\n",
      "[['id', 'text_name', 'entry_year'], ['1', 'Group 1', '2019'], ['2', 'Group 2', '2020'], ['3', 'Group 3', '2021']]\n"
     ]
    }
   ],
   "source": [
    "print(subjects_list)\n",
    "print(result_list)\n",
    "print(students_list)\n",
    "print(teachers_list)\n",
    "print(groups_list)"
   ]
  },
  {
   "cell_type": "code",
   "execution_count": 4,
   "metadata": {},
   "outputs": [],
   "source": [
    "#1\n",
    "def teacher_in_group(teacher_id, group_id):\n",
    "    teacher_id, group_id = str(teacher_id), str(group_id)\n",
    "    for teacher in teachers_list[1:]:\n",
    "        if teacher_id == teacher[0]:\n",
    "            students = []\n",
    "            groups = set()\n",
    "            subjects = set()\n",
    "            for result in result_list[1:]:\n",
    "                if result[7] == teacher_id:\n",
    "                    students.append(result[2])\n",
    "                    subjects.add(result[1])\n",
    "            for student in students_list[1:]:\n",
    "                if student[0] in students:\n",
    "                    groups.add(student[3])\n",
    "            if not(group_id in groups):\n",
    "                return False\n",
    "            else:\n",
    "                dict_output = {}\n",
    "                for subject in subjects:\n",
    "                    dict_output[subject] = {'5':0, '4':0, '3':0, '2':0}\n",
    "                for result in result_list[1:]:\n",
    "                    if result[7] == teacher_id:\n",
    "                        dict_output[result[1]][result[6]] += 1\n",
    "                return dict_output\n",
    "    else:\n",
    "        return None"
   ]
  },
  {
   "cell_type": "code",
   "execution_count": 5,
   "metadata": {},
   "outputs": [
    {
     "name": "stdout",
     "output_type": "stream",
     "text": [
      "{'2': {'5': 1, '4': 1, '3': 0, '2': 0}, '1': {'5': 0, '4': 0, '3': 1, '2': 0}}\n"
     ]
    }
   ],
   "source": [
    "print(teacher_in_group(2, 2))"
   ]
  },
  {
   "cell_type": "code",
   "execution_count": 6,
   "metadata": {},
   "outputs": [],
   "source": [
    "#2\n",
    "def teacher_analysis(first_name, second_name, middle_name, to_json=False):\n",
    "    for teacher in teachers_list[1:]:\n",
    "        if first_name == teacher[1] and second_name == teacher[2] and middle_name == teacher[3]:\n",
    "            teacher_id = teacher[0]\n",
    "            students = []\n",
    "            groups = set()\n",
    "            for result in result_list[1:]:\n",
    "                if result[7] == teacher_id:\n",
    "                    students.append(result[2])\n",
    "            for student in students_list[1:]:\n",
    "                if student[0] in students:\n",
    "                    groups.add(student[3])\n",
    "    dict_output = {}\n",
    "    for group in groups_list:\n",
    "        if group[0] in groups:\n",
    "            dict_output[group[1]] = teacher_in_group(teacher_id, group[0])\n",
    "    if to_json == False:\n",
    "        return dict_output\n",
    "    else:\n",
    "        with open(to_json, 'w') as f:\n",
    "            f.write(f'{dict_output}')\n",
    "        return True\n",
    "\n",
    "    "
   ]
  },
  {
   "cell_type": "code",
   "execution_count": 7,
   "metadata": {},
   "outputs": [
    {
     "name": "stdout",
     "output_type": "stream",
     "text": [
      "{'Group 1': {'1': {'5': 1, '4': 1, '3': 0, '2': 0}}}\n"
     ]
    }
   ],
   "source": [
    "print(teacher_analysis('Bob', 'Ross', 'Kelly'))"
   ]
  },
  {
   "cell_type": "code",
   "execution_count": 8,
   "metadata": {},
   "outputs": [
    {
     "name": "stdout",
     "output_type": "stream",
     "text": [
      "True\n"
     ]
    }
   ],
   "source": [
    "print(teacher_analysis('Steven', 'Jobs', 'Paul', to_json='test.txt'))"
   ]
  },
  {
   "cell_type": "code",
   "execution_count": 9,
   "metadata": {},
   "outputs": [],
   "source": [
    "#3 \n",
    "def group_analysis(entry_year, subject_name, to_json=False):\n",
    "    entry_year = str(entry_year)\n",
    "    groups = []\n",
    "    dict_output = {}\n",
    "    for group in groups_list[1:]:\n",
    "        if group[2] == entry_year:\n",
    "            dict_output[group[0]] = {'group_name':group[1], 'stats': {'5':0, '4':0, '3':0, '2':0}}\n",
    "            students = []\n",
    "            for student in students_list[1:]:\n",
    "                if student[3] == group[0]:\n",
    "                    students.append(student[0])\n",
    "            for subject in subjects_list[1:]:\n",
    "                if subject[1] == subject_name:\n",
    "                    subject_id = subject[0]\n",
    "            for result in result_list[1:]:\n",
    "                if result[2] in students and result[1] == subject_id:\n",
    "                    dict_output[group[0]]['stats'][result[6]] += 1\n",
    "    if to_json == False:\n",
    "        return dict_output\n",
    "    else:\n",
    "        with open(to_json, 'w') as f:\n",
    "            f.write(f'{dict_output}')\n",
    "        return True"
   ]
  },
  {
   "cell_type": "code",
   "execution_count": 10,
   "metadata": {},
   "outputs": [
    {
     "name": "stdout",
     "output_type": "stream",
     "text": [
      "{'1': {'group_name': 'Group 1', 'stats': {'5': 1, '4': 1, '3': 0, '2': 0}}}\n"
     ]
    }
   ],
   "source": [
    "print(group_analysis(2019, 'History'))"
   ]
  },
  {
   "cell_type": "code",
   "execution_count": 11,
   "metadata": {},
   "outputs": [],
   "source": [
    "#4\n",
    "def student_analysis(student_id):\n",
    "    student_id = str(student_id)\n",
    "    dict_output = {}\n",
    "    for result in result_list:\n",
    "        if result[2] == student_id:\n",
    "            dict_output[1] = f'att1:{result[3]}, att2:{result[4]}, exam:{result[5]}, sum:{sum(map(int, [result[3], result[4], result[5]]))}, total:{result[6]}'\n",
    "    return dict_output"
   ]
  },
  {
   "cell_type": "code",
   "execution_count": 12,
   "metadata": {},
   "outputs": [
    {
     "name": "stdout",
     "output_type": "stream",
     "text": [
      "{1: 'att1:17, att2:19, exam:40, sum:76, total:4'}\n"
     ]
    }
   ],
   "source": [
    "print(student_analysis(101))"
   ]
  },
  {
   "cell_type": "code",
   "execution_count": 21,
   "metadata": {},
   "outputs": [],
   "source": [
    "#5\n",
    "def average_total_student(name):\n",
    "    second_name, first_name = name.split()\n",
    "    for student in students_list[1:]:\n",
    "        if student[1] == first_name and student[2] == second_name:\n",
    "            student_id = student[0]\n",
    "    totals = []\n",
    "    for result in result_list:\n",
    "        if result[2] == student_id:\n",
    "            totals.append(int(result[6]))\n",
    "    return sum(totals)/len(totals)"
   ]
  },
  {
   "cell_type": "code",
   "execution_count": 22,
   "metadata": {},
   "outputs": [
    {
     "name": "stdout",
     "output_type": "stream",
     "text": [
      "4.5\n"
     ]
    }
   ],
   "source": [
    "print(average_total_student('Geller Ross'))"
   ]
  },
  {
   "cell_type": "code",
   "execution_count": null,
   "metadata": {},
   "outputs": [],
   "source": []
  }
 ],
 "metadata": {
  "interpreter": {
   "hash": "ef1a5d0b392b78fa6b938496ed158b31a5708e64beeadf2ab287f2b43192d531"
  },
  "kernelspec": {
   "display_name": "Python 3.9.6 64-bit",
   "name": "python3"
  },
  "language_info": {
   "codemirror_mode": {
    "name": "ipython",
    "version": 3
   },
   "file_extension": ".py",
   "mimetype": "text/x-python",
   "name": "python",
   "nbconvert_exporter": "python",
   "pygments_lexer": "ipython3",
   "version": "3.9.6"
  },
  "orig_nbformat": 4
 },
 "nbformat": 4,
 "nbformat_minor": 2
}
