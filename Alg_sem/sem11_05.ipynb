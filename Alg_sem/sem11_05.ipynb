{
 "cells": [
  {
   "cell_type": "code",
   "execution_count": 5,
   "metadata": {},
   "outputs": [
    {
     "name": "stdout",
     "output_type": "stream",
     "text": [
      "2500.0\n",
      "47500.0\n"
     ]
    }
   ],
   "source": [
    "#6\n",
    "class Tax(object):\n",
    "    def __init__(self, oklad, procent):\n",
    "        self.oklad = oklad\n",
    "        self.procent = procent\n",
    "        self.nalog = self.oklad*self.procent/100\n",
    "        self.summa = self.oklad - self.nalog \n",
    "\n",
    "T1 = Tax(50000, 5)\n",
    "print(T1.nalog)\n",
    "print(T1.summa)"
   ]
  },
  {
   "cell_type": "code",
   "execution_count": 13,
   "metadata": {},
   "outputs": [],
   "source": [
    "#7\n",
    "import datetime\n",
    "\n",
    "class Car(object):\n",
    "    def __init__(self, brand, power, passengers):\n",
    "        self.brand = brand\n",
    "        self.power = power\n",
    "        self.passengers = passengers\n",
    "        self.q = 0.1*power*passengers\n"
   ]
  },
  {
   "cell_type": "code",
   "execution_count": 29,
   "metadata": {},
   "outputs": [
    {
     "name": "stdout",
     "output_type": "stream",
     "text": [
      "19991.0\n"
     ]
    }
   ],
   "source": [
    "class Car_year(Car):\n",
    "    def __init__(self, brand, power, passengers, year):\n",
    "        Car.__init__(self, brand, power, passengers)\n",
    "        nowdate = datetime.datetime.now()\n",
    "        self.year = year\n",
    "        self.qp = self.q-1.5*(nowdate.year-year)\n",
    "\n",
    "C1 = Car_year('Land Rover', 50000, 4, 2016)\n",
    "print(C1.qp)"
   ]
  },
  {
   "cell_type": "code",
   "execution_count": 32,
   "metadata": {},
   "outputs": [],
   "source": [
    "#8\n",
    "class Mestnost:\n",
    "    def __init__(self, highs, gap):\n",
    "        self.highs = highs\n",
    "        self.gap = gap\n",
    "        self.diffs = [abs(highs[i-1]-highs[i]) for i in range(1, len(highs))]\n",
    "        self.tgs = [diff/gap for diff in self.diffs]\n",
    "\n",
    "    def max_high(self):\n",
    "        return max(self.highs)\n",
    "    \n",
    "    def min_high(self):\n",
    "        return min(self.highs)\n",
    "\n",
    "    def max_diff(self):\n",
    "        return max(self.diffs)\n",
    "\n",
    "    def sum_diff(self):\n",
    "        return sum(self.diffs)\n",
    "\n",
    "    def min_slope(self):\n",
    "        return min(self.tgs)\n",
    "\n",
    "    def max_slope(self):\n",
    "        return max(self.tgs)\n",
    "\n",
    "    def av_slope(self):\n",
    "        return sum(self.tgs)/len(self.tgs)\n",
    "\n",
    "    def comp_diff(self, Mestnost2):\n",
    "        sum1 = self.sum_diff()\n",
    "        sum2 = Mestnost2.sum_diff()\n",
    "        if sum1 > sum2:\n",
    "            return 'Перепад первой больше'\n",
    "        else:\n",
    "            return 'Перепад второй больше'\n",
    "\n",
    "    def comp_slope(self, Mestnost2):\n",
    "        slope1 = self.av_slope()\n",
    "        slope2 = Mestnost2.av_slope()\n",
    "        if slope1 > slope2:\n",
    "            return 'Крутизна первой больше'\n",
    "        else:\n",
    "            return 'Крутизна второй больше'    "
   ]
  },
  {
   "cell_type": "code",
   "execution_count": 33,
   "metadata": {},
   "outputs": [
    {
     "data": {
      "text/plain": [
       "130"
      ]
     },
     "execution_count": 33,
     "metadata": {},
     "output_type": "execute_result"
    }
   ],
   "source": [
    "M1 = Mestnost([100, 110, 90, 95, 130], 10)\n",
    "M1.max_high()\n"
   ]
  },
  {
   "cell_type": "code",
   "execution_count": 34,
   "metadata": {},
   "outputs": [
    {
     "data": {
      "text/plain": [
       "35"
      ]
     },
     "execution_count": 34,
     "metadata": {},
     "output_type": "execute_result"
    }
   ],
   "source": [
    "M1.max_diff()"
   ]
  },
  {
   "cell_type": "code",
   "execution_count": 35,
   "metadata": {},
   "outputs": [
    {
     "data": {
      "text/plain": [
       "3.5"
      ]
     },
     "execution_count": 35,
     "metadata": {},
     "output_type": "execute_result"
    }
   ],
   "source": [
    "M1.max_slope()"
   ]
  },
  {
   "cell_type": "code",
   "execution_count": 36,
   "metadata": {},
   "outputs": [
    {
     "data": {
      "text/plain": [
       "'Перепад первой больше'"
      ]
     },
     "execution_count": 36,
     "metadata": {},
     "output_type": "execute_result"
    }
   ],
   "source": [
    "M2 = Mestnost([80, 78, 90, 100, 105], 10)\n",
    "M1.comp_diff(M2)"
   ]
  },
  {
   "cell_type": "code",
   "execution_count": null,
   "metadata": {},
   "outputs": [],
   "source": []
  }
 ],
 "metadata": {
  "interpreter": {
   "hash": "ef1a5d0b392b78fa6b938496ed158b31a5708e64beeadf2ab287f2b43192d531"
  },
  "kernelspec": {
   "display_name": "Python 3.9.6 64-bit",
   "name": "python3"
  },
  "language_info": {
   "codemirror_mode": {
    "name": "ipython",
    "version": 3
   },
   "file_extension": ".py",
   "mimetype": "text/x-python",
   "name": "python",
   "nbconvert_exporter": "python",
   "pygments_lexer": "ipython3",
   "version": "3.9.6"
  },
  "orig_nbformat": 4
 },
 "nbformat": 4,
 "nbformat_minor": 2
}
