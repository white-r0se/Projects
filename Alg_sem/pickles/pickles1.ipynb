{
 "cells": [
  {
   "cell_type": "code",
   "execution_count": 11,
   "metadata": {},
   "outputs": [],
   "source": [
    "import pickle"
   ]
  },
  {
   "cell_type": "code",
   "execution_count": 12,
   "metadata": {},
   "outputs": [],
   "source": [
    "def load_pickle(file):\n",
    "    with open(file, 'rb') as loadfile:\n",
    "        return pickle.load(loadfile)"
   ]
  },
  {
   "cell_type": "code",
   "execution_count": 13,
   "metadata": {},
   "outputs": [],
   "source": [
    "def save_pickle(object, file='Name.pickle'):\n",
    "    with open(file, 'wb') as newfile:\n",
    "        pickle.dump(object, newfile)"
   ]
  },
  {
   "cell_type": "code",
   "execution_count": 14,
   "metadata": {},
   "outputs": [],
   "source": [
    "arr = ['a', 2, {123}]\n",
    "save_pickle(arr)"
   ]
  },
  {
   "cell_type": "code",
   "execution_count": 15,
   "metadata": {},
   "outputs": [
    {
     "name": "stdout",
     "output_type": "stream",
     "text": [
      "['a', 2, {123}]\n"
     ]
    }
   ],
   "source": [
    "new_arr = load_pickle('Name.pickle')\n",
    "print(new_arr)"
   ]
  },
  {
   "cell_type": "code",
   "execution_count": 28,
   "metadata": {},
   "outputs": [],
   "source": [
    "with open('revisor.txt', 'r') as txtfile:\n",
    "    lines = txtfile.readlines()\n",
    "\n",
    "stat = {}    \n",
    "for line in lines:\n",
    "    for word in line.split():\n",
    "        word = word.lower()\n",
    "        if word in stat:\n",
    "            stat[word] += 1\n",
    "        else:\n",
    "            stat[word] = 1\n",
    "\n",
    "sorted_stat = {}\n",
    "sorted_keys = reversed(sorted(stat, key=stat.get))\n",
    "\n",
    "for key in sorted_keys:\n",
    "    sorted_stat[key] = stat[key]\n",
    "\n",
    "with open('stat.txt', 'w') as stat:\n",
    "    for word in sorted_stat:\n",
    "        print(word, ':', sorted_stat[word], file = stat)"
   ]
  },
  {
   "cell_type": "code",
   "execution_count": null,
   "metadata": {},
   "outputs": [],
   "source": []
  }
 ],
 "metadata": {
  "interpreter": {
   "hash": "ef1a5d0b392b78fa6b938496ed158b31a5708e64beeadf2ab287f2b43192d531"
  },
  "kernelspec": {
   "display_name": "Python 3.9.6 64-bit",
   "name": "python3"
  },
  "language_info": {
   "codemirror_mode": {
    "name": "ipython",
    "version": 3
   },
   "file_extension": ".py",
   "mimetype": "text/x-python",
   "name": "python",
   "nbconvert_exporter": "python",
   "pygments_lexer": "ipython3",
   "version": "3.9.6"
  },
  "orig_nbformat": 4
 },
 "nbformat": 4,
 "nbformat_minor": 2
}
