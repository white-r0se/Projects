{
 "cells": [
  {
   "cell_type": "code",
   "execution_count": 2,
   "metadata": {},
   "outputs": [
    {
     "name": "stdout",
     "output_type": "stream",
     "text": [
      "math              numpy             Equals?\n",
      "1.308996938995747 1.308996938995747 True\n",
      "3.141592653589793 3.141592653589793 True\n",
      "1.570796326794897 1.570796326794896 True\n"
     ]
    }
   ],
   "source": [
    "#10\n",
    "from math import radians as mradians\n",
    "from numpy import radians as nradians\n",
    "\n",
    "print('math              numpy             Equals?')\n",
    "for degree in [75, 180, 90]:\n",
    "    print(round(mradians(degree), 15), round(nradians(degree), 15), mradians(degree) == nradians(degree))"
   ]
  },
  {
   "cell_type": "code",
   "execution_count": 3,
   "metadata": {},
   "outputs": [
    {
     "name": "stdout",
     "output_type": "stream",
     "text": [
      "[6, 20, 42, 72, 110, 156, 210, 272, 342, 420]\n"
     ]
    }
   ],
   "source": [
    "#11\n",
    "import numpy as np\n",
    "print([num*(num + 1) for num in np.arange(2, 22, 2)])"
   ]
  },
  {
   "cell_type": "code",
   "execution_count": 4,
   "metadata": {},
   "outputs": [
    {
     "name": "stdout",
     "output_type": "stream",
     "text": [
      "[[  1   2   3   4   5   6   7]\n",
      " [ 11  12  13  14  15  16  17]\n",
      " [ 21  22  23  24  25  26  27]\n",
      " [ 31  32  33  34  35  36  37]\n",
      " [ 41  42  43  44  45  46  47]\n",
      " [ 51  52  53  54  55  56  57]\n",
      " [ 61  62  63  64  65  66  67]\n",
      " [ 71  72  73  74  75  76  77]\n",
      " [ 81  82  83  84  85  86  87]\n",
      " [ 91  92  93  94  95  96  97]\n",
      " [101 102 103 104 105 106 107]]\n"
     ]
    }
   ],
   "source": [
    "#12\n",
    "matrix = np.matrix([[i*10+j+1 for j in range(7)] for i in range(11)])\n",
    "print(matrix)"
   ]
  },
  {
   "cell_type": "code",
   "execution_count": 25,
   "metadata": {},
   "outputs": [
    {
     "name": "stdout",
     "output_type": "stream",
     "text": [
      "[[7/9, 11/18, 5/6, 5/18, 1/2, 1/18, 0], [7/18, 11/18, 1/9, 7/18, 1/6, 1/2, 1/6], [1/18, 4/9, 5/18, 5/9, 13/18, 8/9, 11/18], [1/6, 5/9, 1/3, 2/9, 13/18, 1, 1/9]]\n"
     ]
    }
   ],
   "source": [
    "#13\n",
    "from sympy import *\n",
    "import random\n",
    "\n",
    "arr = [[random.randint(0, 20) for j in range(7)] for i in range(4)]\n",
    "maxn, minn = np.max(arr), np.min(arr)\n",
    "a, b = symbols('a b')\n",
    "a, b = solve([a*maxn+b*a*maxn+b-1, a*minn+b*a*minn+b], (a, b))[0]\n",
    "\n",
    "for i in range(len(arr)):\n",
    "    for j in range(len(arr[0])):\n",
    "        x = arr[i][j]\n",
    "        arr[i][j] = a*x+b*a*x+b\n",
    "\n",
    "print(arr)"
   ]
  },
  {
   "cell_type": "code",
   "execution_count": 32,
   "metadata": {},
   "outputs": [
    {
     "name": "stdout",
     "output_type": "stream",
     "text": [
      "4 [8, 1, 2, 3, 2, 5, 1, 8, 5, 7]\n"
     ]
    }
   ],
   "source": [
    "#14\n",
    "\n",
    "arr = [[np.random.randint(0, 11) for j in range(10)] for i in range(8)]\n",
    "minsum = 10000\n",
    "for line in arr:\n",
    "    if np.sum(line) < minsum:\n",
    "        minsum = np.sum(line)\n",
    "        minline = line\n",
    "\n",
    "print(arr.index(minline), minline)"
   ]
  },
  {
   "cell_type": "code",
   "execution_count": 33,
   "metadata": {},
   "outputs": [
    {
     "name": "stdout",
     "output_type": "stream",
     "text": [
      "[70, 50, 59, 70, 30, 64, 30, 70, 70, 69, 70, 30, 70, 30, 70, 53, 57, 61, 36, 48]\n"
     ]
    }
   ],
   "source": [
    "#15\n",
    "\n",
    "arr = [np.random.randint(101) for i in range(20)]\n",
    "newarr = [30 if num < 30 else 70 if num > 70 else num for num in arr]\n",
    "print(newarr)"
   ]
  },
  {
   "cell_type": "code",
   "execution_count": 46,
   "metadata": {},
   "outputs": [
    {
     "data": {
      "text/plain": [
       "4"
      ]
     },
     "execution_count": 46,
     "metadata": {},
     "output_type": "execute_result"
    }
   ],
   "source": []
  },
  {
   "cell_type": "code",
   "execution_count": null,
   "metadata": {},
   "outputs": [],
   "source": []
  }
 ],
 "metadata": {
  "interpreter": {
   "hash": "ef1a5d0b392b78fa6b938496ed158b31a5708e64beeadf2ab287f2b43192d531"
  },
  "kernelspec": {
   "display_name": "Python 3.9.6 64-bit",
   "name": "python3"
  },
  "language_info": {
   "codemirror_mode": {
    "name": "ipython",
    "version": 3
   },
   "file_extension": ".py",
   "mimetype": "text/x-python",
   "name": "python",
   "nbconvert_exporter": "python",
   "pygments_lexer": "ipython3",
   "version": "3.9.6"
  },
  "orig_nbformat": 4
 },
 "nbformat": 4,
 "nbformat_minor": 2
}
