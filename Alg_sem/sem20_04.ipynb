{
 "cells": [
  {
   "cell_type": "code",
   "execution_count": 5,
   "metadata": {},
   "outputs": [
    {
     "name": "stdout",
     "output_type": "stream",
     "text": [
      "Point(1, 2)\n"
     ]
    }
   ],
   "source": [
    "#1\n",
    "class Point(object):\n",
    "    def __init__(self, x, y):\n",
    "        self.x = int(x)\n",
    "        self.y = int(y)\n",
    "    def __str__(self):\n",
    "        return f'Point({self.x}, {self.y})'\n",
    "\n",
    "p = Point(1, 2)\n",
    "print(p)"
   ]
  },
  {
   "cell_type": "code",
   "execution_count": 10,
   "metadata": {},
   "outputs": [
    {
     "name": "stdout",
     "output_type": "stream",
     "text": [
      "Rectangle(Point(0, 5), Point(5, 0))\n",
      "(5, 5)\n",
      "20\n"
     ]
    }
   ],
   "source": [
    "class Rect(object):\n",
    "    def __init__(self, left_top: Point, right_bottom: Point):\n",
    "        self.left_top = left_top\n",
    "        self.right_bottom = right_bottom\n",
    "    def __str__(self):\n",
    "        return f'Rectangle({self.left_top}, {self.right_bottom})'\n",
    "    def sides(self):\n",
    "        return (self.right_bottom.x - self.left_top.x, self.left_top.y - self.right_bottom.y) \n",
    "    def perim(self):\n",
    "        a, b = self.sides()\n",
    "        return 2*(a+b)\n",
    "\n",
    "p1 = Point(0, 5)\n",
    "p2 = Point(5, 0)\n",
    "rect = Rect(p1, p2)\n",
    "print(rect)\n",
    "print(rect.sides())\n",
    "print(rect.perim())"
   ]
  },
  {
   "cell_type": "code",
   "execution_count": 16,
   "metadata": {},
   "outputs": [
    {
     "name": "stdout",
     "output_type": "stream",
     "text": [
      "Triangle(Point(0, 3), Point(4, 0), Point(0, 0))\n",
      "(5.0, 3.0, 4.0)\n",
      "12.0\n"
     ]
    }
   ],
   "source": [
    "#2\n",
    "class Triangle(object):\n",
    "    def __init__(self, p1, p2, p3):\n",
    "        self.p1 = p1\n",
    "        self.p2 = p2\n",
    "        self.p3 = p3\n",
    "    def __str__(self):\n",
    "        return f'Triangle({self.p1}, {self.p2}, {self.p3})'\n",
    "    def sides(self):\n",
    "        a = ((self.p1.x-self.p2.x)**2 + (self.p1.y-self.p2.y)**2)**0.5\n",
    "        b = ((self.p1.x-self.p3.x)**2 + (self.p1.y-self.p3.y)**2)**0.5\n",
    "        c = ((self.p3.x-self.p2.x)**2 + (self.p3.y-self.p2.y)**2)**0.5\n",
    "        return(a, b, c)\n",
    "    def perim(self):\n",
    "        a, b, c = self.sides()\n",
    "        return(sum([a, b, c]))\n",
    "\n",
    "p1 = Point(0, 3)\n",
    "p2 = Point(4, 0)\n",
    "p3 = Point(0, 0)\n",
    "tr = Triangle(p1, p2, p3)\n",
    "print(tr)\n",
    "print(tr.sides())\n",
    "print(tr.perim())"
   ]
  },
  {
   "cell_type": "code",
   "execution_count": 8,
   "metadata": {},
   "outputs": [
    {
     "name": "stdout",
     "output_type": "stream",
     "text": [
      "Worker n1 n2 p\n",
      "n1\n",
      "200000\n"
     ]
    }
   ],
   "source": [
    "#3\n",
    "class People(object):\n",
    "    def __init__(self, first_name, second_name, sex, age=None):\n",
    "        self.first_name = first_name\n",
    "        self.second_name = second_name\n",
    "        self.sex = sex\n",
    "        self.age = age\n",
    "    def __str__(self):\n",
    "        return f'Persone {first_name} {second_name}'\n",
    "    def change_sex(self, new_sex):\n",
    "        self.sex = new_sex\n",
    "\n",
    "class Worker(People):\n",
    "    def __init__(self, first_name, second_name, sex, post, salary, age=None):\n",
    "        People.__init__(self, first_name, second_name, sex, age=age)\n",
    "        self.post = post\n",
    "        self.salary = salary\n",
    "    def __str__(self):\n",
    "        return f'Worker {self.first_name} {self.second_name} {self.post}'\n",
    "    def promotion(self, new_post):\n",
    "        self.post = new_post\n",
    "    def change_salary(self, new_salary):\n",
    "        self.salary = new_salary\n",
    "\n",
    "\n",
    "w = Worker('n1', 'n2', 'm', 'p', '123', 42)\n",
    "print(w)\n",
    "print(w.first_name)\n",
    "w.change_salary(200000)\n",
    "print(w.salary)\n",
    "    \n"
   ]
  },
  {
   "cell_type": "code",
   "execution_count": null,
   "metadata": {},
   "outputs": [],
   "source": []
  }
 ],
 "metadata": {
  "interpreter": {
   "hash": "ef1a5d0b392b78fa6b938496ed158b31a5708e64beeadf2ab287f2b43192d531"
  },
  "kernelspec": {
   "display_name": "Python 3.9.6 64-bit",
   "name": "python3"
  },
  "language_info": {
   "codemirror_mode": {
    "name": "ipython",
    "version": 3
   },
   "file_extension": ".py",
   "mimetype": "text/x-python",
   "name": "python",
   "nbconvert_exporter": "python",
   "pygments_lexer": "ipython3",
   "version": "3.9.6"
  },
  "orig_nbformat": 4
 },
 "nbformat": 4,
 "nbformat_minor": 2
}
