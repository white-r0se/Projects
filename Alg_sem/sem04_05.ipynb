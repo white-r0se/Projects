{
 "cells": [
  {
   "cell_type": "code",
   "execution_count": 1,
   "metadata": {},
   "outputs": [],
   "source": [
    "class People(object):\n",
    "    def __init__(self, first_name, second_name, sex, age=None):\n",
    "        self.first_name = first_name\n",
    "        self.second_name = second_name\n",
    "        self.sex = sex\n",
    "        self.age = age\n",
    "    def __str__(self):\n",
    "        return f'Persone {self.first_name} {self.second_name}'\n",
    "    def change_sex(self, new_sex):\n",
    "        self.sex = new_sex"
   ]
  },
  {
   "cell_type": "code",
   "execution_count": 2,
   "metadata": {},
   "outputs": [],
   "source": [
    "class Teacher(People):\n",
    "    def __init__(self, first_name, second_name, sex, disciplines, age=None):\n",
    "        People.__init__(self, first_name, second_name, sex, age=age)\n",
    "        self.disciplines = disciplines\n",
    "    def __str__(self):\n",
    "        return f'Teacher {self.first_name} {self.second_name} {self.disciplines}'\n",
    "    def add_dis(self, dis):\n",
    "        self.disciplines.append(dis)\n",
    "    def delete_dis(self, dis):\n",
    "        self.disciplines.remove(dis)\n"
   ]
  },
  {
   "cell_type": "code",
   "execution_count": 3,
   "metadata": {},
   "outputs": [
    {
     "name": "stdout",
     "output_type": "stream",
     "text": [
      "Teacher Ross Geller ['History', 'Literature']\n",
      "Teacher Ross Geller ['History', 'Literature', 'Math']\n",
      "Teacher Ross Geller ['Literature', 'Math']\n"
     ]
    }
   ],
   "source": [
    "Ross = Teacher('Ross', 'Geller', 'M', ['History', 'Literature'])\n",
    "print(Ross)\n",
    "Ross.add_dis('Math')\n",
    "print(Ross)\n",
    "Ross.delete_dis('History')\n",
    "print(Ross)"
   ]
  },
  {
   "cell_type": "code",
   "execution_count": null,
   "metadata": {},
   "outputs": [],
   "source": []
  }
 ],
 "metadata": {
  "interpreter": {
   "hash": "ef1a5d0b392b78fa6b938496ed158b31a5708e64beeadf2ab287f2b43192d531"
  },
  "kernelspec": {
   "display_name": "Python 3.9.6 64-bit",
   "name": "python3"
  },
  "language_info": {
   "codemirror_mode": {
    "name": "ipython",
    "version": 3
   },
   "file_extension": ".py",
   "mimetype": "text/x-python",
   "name": "python",
   "nbconvert_exporter": "python",
   "pygments_lexer": "ipython3",
   "version": "3.9.6"
  },
  "orig_nbformat": 4
 },
 "nbformat": 4,
 "nbformat_minor": 2
}
